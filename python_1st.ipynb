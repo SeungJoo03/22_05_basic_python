{
  "nbformat": 4,
  "nbformat_minor": 0,
  "metadata": {
    "colab": {
      "provenance": [],
      "authorship_tag": "ABX9TyPiaLOBvz02XxpGiiGryxAv",
      "include_colab_link": true
    },
    "kernelspec": {
      "name": "python3",
      "display_name": "Python 3"
    },
    "language_info": {
      "name": "python"
    }
  },
  "cells": [
    {
      "cell_type": "markdown",
      "metadata": {
        "id": "view-in-github",
        "colab_type": "text"
      },
      "source": [
        "<a href=\"https://colab.research.google.com/github/SeungJoo03/22_05_basic_python/blob/main/python_1st.ipynb\" target=\"_parent\"><img src=\"https://colab.research.google.com/assets/colab-badge.svg\" alt=\"Open In Colab\"/></a>"
      ]
    },
    {
      "cell_type": "markdown",
      "source": [
        "1. 안녕하세요를 화면에 출력해보자"
      ],
      "metadata": {
        "id": "ZHWU635zZB47"
      }
    },
    {
      "cell_type": "code",
      "source": [
        "print(\"안녕하세요.\")"
      ],
      "metadata": {
        "colab": {
          "base_uri": "https://localhost:8080/"
        },
        "id": "y-HZ3g1DZRHd",
        "outputId": "a197f8c2-ef69-47da-989d-149efbd576d4"
      },
      "execution_count": 1,
      "outputs": [
        {
          "output_type": "stream",
          "name": "stdout",
          "text": [
            "안녕하세요.\n"
          ]
        }
      ]
    },
    {
      "cell_type": "markdown",
      "source": [
        "2. programing에 입문하신 것을 축하드립니다."
      ],
      "metadata": {
        "id": "o4_p0VUXZ5LO"
      }
    },
    {
      "cell_type": "code",
      "source": [
        "print(\"programing에 입문하신 것을 축하드립니다.\")"
      ],
      "metadata": {
        "colab": {
          "base_uri": "https://localhost:8080/"
        },
        "id": "_UmfNS_CaFMH",
        "outputId": "967e07c8-b464-4daa-fdfb-2ea877844d8b"
      },
      "execution_count": 2,
      "outputs": [
        {
          "output_type": "stream",
          "name": "stdout",
          "text": [
            "programing에 입문하신 것을 축하드립니다.\n"
          ]
        }
      ]
    }
  ]
}